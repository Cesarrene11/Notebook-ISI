{
 "cells": [
  {
   "cell_type": "code",
   "execution_count": 73,
   "id": "fc2cd941",
   "metadata": {},
   "outputs": [],
   "source": [
    "\n",
    "class Cliente:\n",
    "    def __init__(self, nombre, cedula, saldo=0.0, historial=[]):\n",
    "        self.nombre = nombre\n",
    "        self.cedula = cedula\n",
    "        self.saldo = saldo\n",
    "        self.historial = historial \n",
    "    \n",
    "\n",
    "    def comprar(self, producto, dia, mes):\n",
    "        if self.saldo > producto.precio:\n",
    "            self.saldo -= producto.precio\n",
    "            self.historial.append({\n",
    "                \"producto\": producto.nombre,\n",
    "                \"precio\": producto.precio,\n",
    "                \"dia\": dia,\n",
    "                \"mes\": mes\n",
    "            })\n",
    "            \n",
    "            \n",
    "            \n",
    "            "
   ]
  },
  {
   "cell_type": "code",
   "execution_count": 74,
   "id": "e8a24ed9",
   "metadata": {},
   "outputs": [],
   "source": [
    "class Producto:\n",
    "    def __init__(self, nombre, precio):\n",
    "        self.nombre= nombre\n",
    "        self.precio= precio\n",
    "        "
   ]
  },
  {
   "cell_type": "code",
   "execution_count": 75,
   "id": "9fb88d8a",
   "metadata": {},
   "outputs": [],
   "source": [
    "c1 = Cliente(nombre=\"Juan\", cedula=\"1234567890\", saldo=100)"
   ]
  },
  {
   "cell_type": "code",
   "execution_count": 76,
   "id": "23584a97",
   "metadata": {},
   "outputs": [],
   "source": [
    "p1 = Producto(nombre=\"Cafe\", precio=5)\n",
    "p2 = Producto(nombre=\"Azucar\", precio=7)\n",
    "p3 = Producto(nombre=\"Arroz\", precio=12)"
   ]
  },
  {
   "cell_type": "code",
   "execution_count": 77,
   "id": "9e7d1470",
   "metadata": {},
   "outputs": [],
   "source": [
    "c1.comprar(p1, 23, 10)\n",
    "c1.comprar(p2, 2, 1)\n",
    "c1.comprar(p3, 3, 12)\n",
    "c1.comprar(p1, 4, 11)\n",
    "c1.comprar(p3, 11, 4)\n",
    "c1.comprar(p2, 22, 3)\n",
    "c1.comprar(p3, 25, 2)\n",
    "c1.comprar(p2, 29, 9)\n",
    "c1.comprar(p3, 31, 1)\n",
    "c1.comprar(p2, 30, 8)\n",
    "c1.comprar(p1, 12, 12)\n"
   ]
  },
  {
   "cell_type": "code",
   "execution_count": 78,
   "id": "10496325",
   "metadata": {},
   "outputs": [
    {
     "data": {
      "text/plain": [
       "9"
      ]
     },
     "execution_count": 78,
     "metadata": {},
     "output_type": "execute_result"
    }
   ],
   "source": [
    "c1.saldo"
   ]
  },
  {
   "cell_type": "code",
   "execution_count": 79,
   "id": "f19cf4b0",
   "metadata": {},
   "outputs": [
    {
     "name": "stdout",
     "output_type": "stream",
     "text": [
      "{'producto': 'Cafe', 'precio': 5, 'dia': 23, 'mes': 10}\n",
      "{'producto': 'Azucar', 'precio': 7, 'dia': 2, 'mes': 1}\n",
      "{'producto': 'Arroz', 'precio': 12, 'dia': 3, 'mes': 12}\n",
      "{'producto': 'Cafe', 'precio': 5, 'dia': 4, 'mes': 11}\n",
      "{'producto': 'Arroz', 'precio': 12, 'dia': 11, 'mes': 4}\n",
      "{'producto': 'Azucar', 'precio': 7, 'dia': 22, 'mes': 3}\n",
      "{'producto': 'Arroz', 'precio': 12, 'dia': 25, 'mes': 2}\n",
      "{'producto': 'Azucar', 'precio': 7, 'dia': 29, 'mes': 9}\n",
      "{'producto': 'Arroz', 'precio': 12, 'dia': 31, 'mes': 1}\n",
      "{'producto': 'Azucar', 'precio': 7, 'dia': 30, 'mes': 8}\n",
      "{'producto': 'Cafe', 'precio': 5, 'dia': 12, 'mes': 12}\n"
     ]
    }
   ],
   "source": [
    "for p in c1.historial:\n",
    "    print(p) "
   ]
  },
  {
   "cell_type": "code",
   "execution_count": 80,
   "id": "b20527a5",
   "metadata": {},
   "outputs": [
    {
     "data": {
      "text/plain": [
       "11"
      ]
     },
     "execution_count": 80,
     "metadata": {},
     "output_type": "execute_result"
    }
   ],
   "source": [
    "len(c1.historial)"
   ]
  },
  {
   "cell_type": "code",
   "execution_count": 81,
   "id": "c0aeb295",
   "metadata": {},
   "outputs": [
    {
     "name": "stdout",
     "output_type": "stream",
     "text": [
      "9\n"
     ]
    }
   ],
   "source": [
    "\n",
    "print(c1.saldo)\n"
   ]
  }
 ],
 "metadata": {
  "kernelspec": {
   "display_name": "Python 3",
   "language": "python",
   "name": "python3"
  },
  "language_info": {
   "codemirror_mode": {
    "name": "ipython",
    "version": 3
   },
   "file_extension": ".py",
   "mimetype": "text/x-python",
   "name": "python",
   "nbconvert_exporter": "python",
   "pygments_lexer": "ipython3",
   "version": "3.13.9"
  }
 },
 "nbformat": 4,
 "nbformat_minor": 5
}
