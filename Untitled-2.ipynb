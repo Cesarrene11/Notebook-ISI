{
 "cells": [
  {
   "cell_type": "code",
   "execution_count": 264,
   "id": "fc2cd941",
   "metadata": {},
   "outputs": [],
   "source": [
    "class Cliente:\n",
    "    def __init__(self, nombre, cedula, saldo=0.0, historial=[]):\n",
    "        self.nombre = nombre\n",
    "        self.cedula = cedula\n",
    "        self.saldo = saldo\n",
    "        self.historial = historial \n",
    "    \n",
    "\n",
    "    def comprar(self, producto, dia, mes):\n",
    "        if self.saldo > producto.precio:\n",
    "            self.saldo -= producto.precio\n",
    "            self.historial.append(producto)\n",
    "            self.dia = dia\n",
    "            self.mes = mes\n",
    "            \n",
    "            \n",
    "            \n",
    "            "
   ]
  },
  {
   "cell_type": "code",
   "execution_count": 265,
   "id": "e8a24ed9",
   "metadata": {},
   "outputs": [],
   "source": [
    "class Producto:\n",
    "    def __init__(self, nombre, precio):\n",
    "        self.nombre= nombre\n",
    "        self.precio= precio\n",
    "        "
   ]
  },
  {
   "cell_type": "code",
   "execution_count": 266,
   "id": "9fb88d8a",
   "metadata": {},
   "outputs": [],
   "source": [
    "c1 = Cliente(nombre=\"Juan\", cedula=\"1234567890\", saldo=100)"
   ]
  },
  {
   "cell_type": "code",
   "execution_count": 267,
   "id": "23584a97",
   "metadata": {},
   "outputs": [],
   "source": [
    "p1 = Producto(nombre=\"Cafe\", precio=5)\n",
    "p2 = Producto(nombre=\"Azucar\", precio=7)\n",
    "p3 = Producto(nombre=\"Arroz\", precio=12)"
   ]
  },
  {
   "cell_type": "code",
   "execution_count": 268,
   "id": "9e7d1470",
   "metadata": {},
   "outputs": [],
   "source": [
    "c1.comprar(p1,2,10)\n",
    "c1.comprar(p2,3,4)\n",
    "c1.comprar(p3,21,12)\n",
    "c1.comprar(p2,12,11)\n",
    "c1.comprar(p3,11,1)\n",
    "c1.comprar(p1,2,10)\n",
    "c1.comprar(p2,3,4)\n",
    "c1.comprar(p3,21,12)\n",
    "c1.comprar(p2,12,11)\n",
    "c1.comprar(p3,11,1)\n"
   ]
  },
  {
   "cell_type": "code",
   "execution_count": 269,
   "id": "e27250b6",
   "metadata": {},
   "outputs": [
    {
     "data": {
      "text/plain": [
       "'Cafe'"
      ]
     },
     "execution_count": 269,
     "metadata": {},
     "output_type": "execute_result"
    }
   ],
   "source": [
    "c1.historial[0].nombre"
   ]
  },
  {
   "cell_type": "code",
   "execution_count": 270,
   "id": "10496325",
   "metadata": {},
   "outputs": [
    {
     "data": {
      "text/plain": [
       "14"
      ]
     },
     "execution_count": 270,
     "metadata": {},
     "output_type": "execute_result"
    }
   ],
   "source": [
    "c1.saldo"
   ]
  },
  {
   "cell_type": "code",
   "execution_count": 271,
   "id": "f19cf4b0",
   "metadata": {},
   "outputs": [
    {
     "name": "stdout",
     "output_type": "stream",
     "text": [
      "Cafe\n",
      "Azucar\n",
      "Arroz\n",
      "Azucar\n",
      "Arroz\n",
      "Cafe\n",
      "Azucar\n",
      "Arroz\n",
      "Azucar\n",
      "Arroz\n"
     ]
    }
   ],
   "source": [
    "for p in c1.historial:\n",
    "    print(p.nombre) "
   ]
  },
  {
   "cell_type": "code",
   "execution_count": 272,
   "id": "b20527a5",
   "metadata": {},
   "outputs": [
    {
     "data": {
      "text/plain": [
       "10"
      ]
     },
     "execution_count": 272,
     "metadata": {},
     "output_type": "execute_result"
    }
   ],
   "source": [
    "len(c1.historial)"
   ]
  },
  {
   "cell_type": "code",
   "execution_count": null,
   "id": "c0aeb295",
   "metadata": {},
   "outputs": [
    {
     "name": "stdout",
     "output_type": "stream",
     "text": [
      "14\n"
     ]
    }
   ],
   "source": [
    "\n",
    "print(c1.saldo)\n"
   ]
  }
 ],
 "metadata": {
  "kernelspec": {
   "display_name": "Python 3",
   "language": "python",
   "name": "python3"
  },
  "language_info": {
   "codemirror_mode": {
    "name": "ipython",
    "version": 3
   },
   "file_extension": ".py",
   "mimetype": "text/x-python",
   "name": "python",
   "nbconvert_exporter": "python",
   "pygments_lexer": "ipython3",
   "version": "3.13.7"
  }
 },
 "nbformat": 4,
 "nbformat_minor": 5
}
