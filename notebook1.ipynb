{
 "cells": [
  {
   "cell_type": "code",
   "execution_count": null,
   "id": "3f2d252e",
   "metadata": {},
   "outputs": [],
   "source": [
    "#Clase simple en phyton \n",
    "class Estudiante:\n",
    "#Definicion de atributos\n",
    "def _init_(self, nombre, carrera):\n",
    "self.nombre = nombre \n",
    "self.carrera = carrera\n",
    "\n",
    "#Metodo que describe al objeto\n",
    "def describir(self):\n",
    "    print(f\"Soy{self.nombre} y estudio {self.carrera}.\")\n",
    "    #Creacion de objeto (instancia) de la clase estudiante \n",
    "    estudiante1= Estudiante(\"César\", \"Sistemas de información\")\n",
    "    #Llamamos al metodo \n",
    "    estudiante1.describir\n",
    "    "
   ]
  }
 ],
 "metadata": {
  "language_info": {
   "name": "python"
  }
 },
 "nbformat": 4,
 "nbformat_minor": 5
}
