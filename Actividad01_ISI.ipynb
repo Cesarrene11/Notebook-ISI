{
  "nbformat": 4,
  "nbformat_minor": 0,
  "metadata": {
    "colab": {
      "provenance": []
    },
    "kernelspec": {
      "name": "python3",
      "display_name": "Python 3"
    },
    "language_info": {
      "name": "python"
    }
  },
  "cells": [
    {
      "cell_type": "code",
      "execution_count": null,
      "metadata": {
        "id": "sSoa1dvyzW7U"
      },
      "outputs": [],
      "source": []
    },
    {
      "cell_type": "markdown",
      "source": [
        "IntroducciÓn a Sistemas de InformaciÓn\n",
        "\n",
        "---Comandos Básicos registrados en clase:\n",
        "\n",
        "\n",
        "Asignación de valores a variables\n",
        "\n"
      ],
      "metadata": {
        "id": "9147fictzd6K"
      }
    },
    {
      "cell_type": "code",
      "source": [
        "a= 4\n",
        "b= 'Hola mundo, '\n",
        "a, b"
      ],
      "metadata": {
        "colab": {
          "base_uri": "https://localhost:8080/"
        },
        "id": "4irMp5So3KBz",
        "outputId": "b5f06eee-7d0a-4f50-c498-93ac0b2be86d"
      },
      "execution_count": null,
      "outputs": [
        {
          "output_type": "execute_result",
          "data": {
            "text/plain": [
              "(4, 'Hola mundo, ')"
            ]
          },
          "metadata": {},
          "execution_count": 10
        }
      ]
    },
    {
      "cell_type": "markdown",
      "source": [
        "Operaciones Básicas\n",
        "\n",
        "Se puede realizar operaciones basicas con los valores previamente definidos, tanto de forma numerica como con palabras.\n"
      ],
      "metadata": {
        "id": "Jl5XWs1c5M25"
      }
    },
    {
      "cell_type": "code",
      "source": [
        "resta= a-3\n",
        "resta"
      ],
      "metadata": {
        "colab": {
          "base_uri": "https://localhost:8080/"
        },
        "id": "jTs83uvy5e4T",
        "outputId": "02505033-9f4f-4851-85a3-0062541f7082"
      },
      "execution_count": null,
      "outputs": [
        {
          "output_type": "execute_result",
          "data": {
            "text/plain": [
              "1"
            ]
          },
          "metadata": {},
          "execution_count": 8
        }
      ]
    },
    {
      "cell_type": "code",
      "source": [
        "suma= b + ', soy Nico'\n",
        "suma"
      ],
      "metadata": {
        "colab": {
          "base_uri": "https://localhost:8080/",
          "height": 35
        },
        "id": "qTDo5n985rGl",
        "outputId": "244a3368-f7ab-4b22-ebde-0dc6546344a0"
      },
      "execution_count": null,
      "outputs": [
        {
          "output_type": "execute_result",
          "data": {
            "text/plain": [
              "'Hola mundo, soy Nico'"
            ],
            "application/vnd.google.colaboratory.intrinsic+json": {
              "type": "string"
            }
          },
          "metadata": {},
          "execution_count": 6
        }
      ]
    },
    {
      "cell_type": "code",
      "source": [
        "mult= b*3\n",
        "mult"
      ],
      "metadata": {
        "colab": {
          "base_uri": "https://localhost:8080/",
          "height": 35
        },
        "id": "91CxxJqP6t37",
        "outputId": "3cadebea-8c39-4dc1-8771-216450472f0d"
      },
      "execution_count": null,
      "outputs": [
        {
          "output_type": "execute_result",
          "data": {
            "text/plain": [
              "'Hola mundo, Hola mundo, Hola mundo, '"
            ],
            "application/vnd.google.colaboratory.intrinsic+json": {
              "type": "string"
            }
          },
          "metadata": {},
          "execution_count": 11
        }
      ]
    },
    {
      "cell_type": "markdown",
      "source": [
        "Condicionales\n",
        "\n",
        "IF - FOR\n",
        "\n"
      ],
      "metadata": {
        "id": "LR-TXzcF6rlF"
      }
    },
    {
      "cell_type": "code",
      "source": [
        "x=3\n",
        "if x<5:\n",
        "  print('Es menor que 5')"
      ],
      "metadata": {
        "colab": {
          "base_uri": "https://localhost:8080/"
        },
        "id": "xjQSdW5G9GKC",
        "outputId": "77976fa4-9ad2-411f-b1d4-c64cdb4d897f"
      },
      "execution_count": null,
      "outputs": [
        {
          "output_type": "stream",
          "name": "stdout",
          "text": [
            "Es menor que 5\n"
          ]
        }
      ]
    },
    {
      "cell_type": "code",
      "source": [
        "for i in range (10):\n",
        "  print(i)"
      ],
      "metadata": {
        "colab": {
          "base_uri": "https://localhost:8080/"
        },
        "id": "gQ19nlmH9oV5",
        "outputId": "b840ba96-33c2-43ce-a7fe-8368c35b7ee4"
      },
      "execution_count": null,
      "outputs": [
        {
          "output_type": "stream",
          "name": "stdout",
          "text": [
            "0\n",
            "1\n",
            "2\n",
            "3\n",
            "4\n",
            "5\n",
            "6\n",
            "7\n",
            "8\n",
            "9\n"
          ]
        }
      ]
    },
    {
      "cell_type": "markdown",
      "source": [
        "Añadir y remover de lista"
      ],
      "metadata": {
        "id": "xaQ0AUzI93y1"
      }
    },
    {
      "cell_type": "code",
      "source": [
        "x = [10, 20, 30, 40]\n",
        "x.append(50)\n",
        "print(x)"
      ],
      "metadata": {
        "colab": {
          "base_uri": "https://localhost:8080/"
        },
        "id": "I5QdG1S597Cv",
        "outputId": "e89bca14-46b8-4b5f-8953-94d5f1333fbd"
      },
      "execution_count": null,
      "outputs": [
        {
          "output_type": "stream",
          "name": "stdout",
          "text": [
            "[10, 20, 30, 40, 50]\n"
          ]
        }
      ]
    },
    {
      "cell_type": "code",
      "source": [
        "x.remove (10)\n",
        "print(x)"
      ],
      "metadata": {
        "colab": {
          "base_uri": "https://localhost:8080/"
        },
        "id": "nsCfniEk-jv4",
        "outputId": "53bfc63d-2cd7-4936-db77-4a69a63199a6"
      },
      "execution_count": null,
      "outputs": [
        {
          "output_type": "stream",
          "name": "stdout",
          "text": [
            "[20, 30, 40, 50]\n"
          ]
        }
      ]
    },
    {
      "cell_type": "markdown",
      "source": [
        "Diccionarios"
      ],
      "metadata": {
        "id": "QK2xD3a5_Kvw"
      }
    },
    {
      "cell_type": "code",
      "source": [
        "a= {'nombre': 'Nico', 'edad': 19, 'carrera':'Sistemas de Información'}\n",
        "a['nombre']"
      ],
      "metadata": {
        "colab": {
          "base_uri": "https://localhost:8080/",
          "height": 35
        },
        "id": "ruE-Yuny_QDc",
        "outputId": "dc776ff1-65a9-41d5-94a2-1cf001e891f6"
      },
      "execution_count": null,
      "outputs": [
        {
          "output_type": "execute_result",
          "data": {
            "text/plain": [
              "'Nico'"
            ],
            "application/vnd.google.colaboratory.intrinsic+json": {
              "type": "string"
            }
          },
          "metadata": {},
          "execution_count": 29
        }
      ]
    },
    {
      "cell_type": "code",
      "source": [
        "a['Sistemas de Información']= 'Matriculado'\n",
        "a"
      ],
      "metadata": {
        "colab": {
          "base_uri": "https://localhost:8080/"
        },
        "id": "CKTMVAHi_zV-",
        "outputId": "3df2112c-a37b-4cd6-cf61-960f9d0345b2"
      },
      "execution_count": null,
      "outputs": [
        {
          "output_type": "execute_result",
          "data": {
            "text/plain": [
              "{'nombre': 'Nico',\n",
              " 'edad': 19,\n",
              " 'carrera': 'Sistemas de Información',\n",
              " 'Sistemas de Información': 'Matriculado'}"
            ]
          },
          "metadata": {},
          "execution_count": 30
        }
      ]
    }
  ]
}